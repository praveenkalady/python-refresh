{
 "cells": [
  {
   "cell_type": "markdown",
   "metadata": {},
   "source": [
    "Exception handling in Python is a mechanism to handle errors gracefully and ensure the program can recover or exit gracefully. It is done using try, except, else, and finally blocks."
   ]
  },
  {
   "cell_type": "code",
   "execution_count": 3,
   "metadata": {},
   "outputs": [
    {
     "name": "stdout",
     "output_type": "stream",
     "text": [
      "Result is 5.0\n",
      "Execution completed.\n"
     ]
    }
   ],
   "source": [
    "# Basic usage of exception handling\n",
    "\n",
    "try:\n",
    "    num = int(input(\"Enter the number?\"))\n",
    "    result = 10/num\n",
    "except ValueError:\n",
    "    print(\"Invalid number please input a valid number!\")\n",
    "except ZeroDivisionError:\n",
    "    print(\"Cannot divide by a zero!\")\n",
    "else:\n",
    "    print(f\"Result is {result}\")\n",
    "finally:\n",
    "    print(\"Execution completed.\")\n"
   ]
  },
  {
   "cell_type": "code",
   "execution_count": 8,
   "metadata": {},
   "outputs": [
    {
     "name": "stdout",
     "output_type": "stream",
     "text": [
      "An error has occured division by zero\n"
     ]
    }
   ],
   "source": [
    "# Handling multiple exceptions with tuple\n",
    "\n",
    "try:\n",
    "    num = int(input(\"Enter the number?\"))\n",
    "    result = 10 / num\n",
    "    print(result)\n",
    "except (ValueError, ZeroDivisionError) as e:\n",
    "    print(f\"An error has occured {e}\")\n"
   ]
  },
  {
   "cell_type": "code",
   "execution_count": 10,
   "metadata": {},
   "outputs": [
    {
     "name": "stdout",
     "output_type": "stream",
     "text": [
      "Something went wrong!\n"
     ]
    }
   ],
   "source": [
    "# Defining custom exceptions\n",
    "class MyCustomError(Exception):\n",
    "    pass\n",
    "try:\n",
    "    raise MyCustomError(\"Something went wrong!\")\n",
    "except MyCustomError as e:\n",
    "    print(e)"
   ]
  },
  {
   "cell_type": "code",
   "execution_count": 11,
   "metadata": {},
   "outputs": [
    {
     "name": "stderr",
     "output_type": "stream",
     "text": [
      "ERROR:root:An error occured!\n",
      "Traceback (most recent call last):\n",
      "  File \"/var/folders/10/ww3m9p_n4kj460dp77cn9j_m0000gn/T/ipykernel_2361/47467470.py\", line 7, in <module>\n",
      "    result = 10 / num\n",
      "ZeroDivisionError: division by zero\n"
     ]
    }
   ],
   "source": [
    "# Error logging \n",
    "\n",
    "import logging\n",
    "\n",
    "try:\n",
    "    num = int(input(\"Enter the number!\"))\n",
    "    result = 10 / num\n",
    "except Exception as e:\n",
    "    logging.error(\"An error occured!\", exc_info=True)"
   ]
  }
 ],
 "metadata": {
  "kernelspec": {
   "display_name": "Python 3",
   "language": "python",
   "name": "python3"
  },
  "language_info": {
   "codemirror_mode": {
    "name": "ipython",
    "version": 3
   },
   "file_extension": ".py",
   "mimetype": "text/x-python",
   "name": "python",
   "nbconvert_exporter": "python",
   "pygments_lexer": "ipython3",
   "version": "3.9.6"
  }
 },
 "nbformat": 4,
 "nbformat_minor": 2
}
