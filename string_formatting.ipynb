{
 "cells": [
  {
   "cell_type": "markdown",
   "metadata": {},
   "source": [
    "String formatting in python"
   ]
  },
  {
   "cell_type": "code",
   "execution_count": 6,
   "metadata": {},
   "outputs": [
    {
     "name": "stdout",
     "output_type": "stream",
     "text": [
      "My name is John and i'am 30 years old\n"
     ]
    }
   ],
   "source": [
    "# Old style of formatting strings in python\n",
    "\n",
    "name = \"John\"\n",
    "age =  30\n",
    "formatted_string = \"My name is %s and i'am %d years old\" % (name, age)\n",
    "print(formatted_string)"
   ]
  },
  {
   "cell_type": "code",
   "execution_count": 7,
   "metadata": {},
   "outputs": [
    {
     "name": "stdout",
     "output_type": "stream",
     "text": [
      "My name is John and i'am 30 years old.\n"
     ]
    }
   ],
   "source": [
    "# str.format method\n",
    "\n",
    "name = \"John\"\n",
    "age = 30\n",
    "\n",
    "formatted_string = \"My name is {} and i'am {} years old.\".format(name, age)\n",
    "\n",
    "print(formatted_string)"
   ]
  },
  {
   "cell_type": "code",
   "execution_count": 11,
   "metadata": {},
   "outputs": [
    {
     "name": "stdout",
     "output_type": "stream",
     "text": [
      "My name is John and I am 25 years old.\n"
     ]
    }
   ],
   "source": [
    "# Using positional argument \n",
    "\n",
    "name = \"John\"\n",
    "age = 25\n",
    "\n",
    "formatted_string = \"My name is {0} and I am {1} years old.\".format(name, age)\n",
    "print(formatted_string)"
   ]
  },
  {
   "cell_type": "code",
   "execution_count": 14,
   "metadata": {},
   "outputs": [
    {
     "name": "stdout",
     "output_type": "stream",
     "text": [
      "My name is John and I am 20 years old.\n"
     ]
    }
   ],
   "source": [
    "# Using positional keyword argument\n",
    "\n",
    "name = \"John\"\n",
    "age = 20\n",
    "\n",
    "formatted_string = \"My name is {name} and I am {age} years old.\".format(name =name, age=age) \n",
    "print(formatted_string)"
   ]
  },
  {
   "cell_type": "code",
   "execution_count": 15,
   "metadata": {},
   "outputs": [
    {
     "name": "stdout",
     "output_type": "stream",
     "text": [
      "My name is John and I am 23 years old.\n"
     ]
    }
   ],
   "source": [
    "# using f string method \n",
    "\n",
    "\n",
    "name = \"John\"\n",
    "age = 23\n",
    "formatted_string = f\"My name is {name} and I am {age} years old.\"\n",
    "print(formatted_string)"
   ]
  },
  {
   "cell_type": "code",
   "execution_count": 16,
   "metadata": {},
   "outputs": [
    {
     "name": "stdout",
     "output_type": "stream",
     "text": [
      "My name is John and I am 30 years old.\n"
     ]
    }
   ],
   "source": [
    "# Using the template method\n",
    "from string import Template\n",
    "\n",
    "name = \"John\"\n",
    "age = 30\n",
    "\n",
    "template = Template(\"My name is $name and I am $age years old.\")\n",
    "formatted_string = template.substitute(name=name, age=age)\n",
    "print(formatted_string)\n"
   ]
  },
  {
   "cell_type": "code",
   "execution_count": 18,
   "metadata": {},
   "outputs": [
    {
     "name": "stdout",
     "output_type": "stream",
     "text": [
      "Value is 123.34556\n"
     ]
    }
   ],
   "source": [
    "# floating point formatting with format\n",
    "\n",
    "value = 123.34556\n",
    "\n",
    "formatted_string = \"Value is {:.5f}\".format(value)\n",
    "\n",
    "print(formatted_string)"
   ]
  },
  {
   "cell_type": "code",
   "execution_count": 20,
   "metadata": {},
   "outputs": [
    {
     "name": "stdout",
     "output_type": "stream",
     "text": [
      "Value is 123.323\n"
     ]
    }
   ],
   "source": [
    "# Floating point formatting with f string\n",
    "\n",
    "value = 123.323445\n",
    "\n",
    "formatted_string = f\"Value is {value:.3f}\"\n",
    "print(formatted_string)"
   ]
  },
  {
   "cell_type": "code",
   "execution_count": 25,
   "metadata": {},
   "outputs": [
    {
     "name": "stdout",
     "output_type": "stream",
     "text": [
      "Hello     \n"
     ]
    }
   ],
   "source": [
    "# padding alignment\n",
    "\n",
    "text = \"Hello\"\n",
    "formatted_string = \"{:<10}\".format(text)\n",
    "print(formatted_string)\n",
    "formatted_string = \"{:>10}\".format(text)"
   ]
  },
  {
   "cell_type": "code",
   "execution_count": 26,
   "metadata": {},
   "outputs": [
    {
     "name": "stdout",
     "output_type": "stream",
     "text": [
      "2024-07-12 12:34:56 - User logged in      \n"
     ]
    }
   ],
   "source": [
    "log_message = \"User logged in\"\n",
    "timestamp = \"2024-07-12 12:34:56\"\n",
    "formatted_log = f\"{timestamp} - {log_message:<20}\"\n",
    "print(formatted_log)"
   ]
  },
  {
   "cell_type": "code",
   "execution_count": 27,
   "metadata": {},
   "outputs": [
    {
     "name": "stdout",
     "output_type": "stream",
     "text": [
      "      3.14\n",
      "    123.46\n",
      "      7.89\n"
     ]
    }
   ],
   "source": [
    "values = [3.14, 123.456, 7.89]\n",
    "\n",
    "for value in values:\n",
    "    print(f\"{value:10.2f}\")"
   ]
  },
  {
   "cell_type": "code",
   "execution_count": 30,
   "metadata": {},
   "outputs": [
    {
     "name": "stdout",
     "output_type": "stream",
     "text": [
      "       Report       \n",
      "      Summary       \n"
     ]
    }
   ],
   "source": [
    "title = \"Report\"\n",
    "subtitle = \"Summary\"\n",
    "print(f\"{title:^20}\")\n",
    "print(f\"{subtitle:^20}\")"
   ]
  }
 ],
 "metadata": {
  "kernelspec": {
   "display_name": "Python 3",
   "language": "python",
   "name": "python3"
  },
  "language_info": {
   "codemirror_mode": {
    "name": "ipython",
    "version": 3
   },
   "file_extension": ".py",
   "mimetype": "text/x-python",
   "name": "python",
   "nbconvert_exporter": "python",
   "pygments_lexer": "ipython3",
   "version": "3.9.6"
  }
 },
 "nbformat": 4,
 "nbformat_minor": 2
}
