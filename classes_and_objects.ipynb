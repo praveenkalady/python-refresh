{
 "cells": [
  {
   "cell_type": "markdown",
   "metadata": {},
   "source": [
    "Classes and objects in python"
   ]
  },
  {
   "cell_type": "code",
   "execution_count": 4,
   "metadata": {},
   "outputs": [
    {
     "name": "stdout",
     "output_type": "stream",
     "text": [
      "Random attribute 1\n",
      "Random attribute 2\n",
      "Attribute1: Random attribute 1, Attribute2: Random attribute 2\n"
     ]
    }
   ],
   "source": [
    "# Creating a basic class\n",
    "\n",
    "class MyClass:\n",
    "    class_attribute = \"I am a class.\"\n",
    "    \n",
    "    def __init__(self, attribute1, attribute2):\n",
    "        self.attribute1 = attribute1\n",
    "        self.attribute2 = attribute2\n",
    "    \n",
    "    def method(self):\n",
    "        return f\"Attribute1: {self.attribute1}, Attribute2: {self.attribute2}\"\n",
    "\n",
    "# creating an instance of a class\n",
    "\n",
    "obj = MyClass(\"Random attribute 1\", \"Random attribute 2\")\n",
    "\n",
    "print(obj.attribute1)\n",
    "print(obj.attribute2)\n",
    "print(obj.method())"
   ]
  },
  {
   "cell_type": "code",
   "execution_count": 7,
   "metadata": {},
   "outputs": [
    {
     "name": "stdout",
     "output_type": "stream",
     "text": [
      "Apoos speaks Bow bow.\n",
      "Jack speaks Meow\n"
     ]
    }
   ],
   "source": [
    "# Inheritance \n",
    "\n",
    "class Animal:\n",
    "    def __init__(self, name):\n",
    "        self.name = name\n",
    "    def speak():\n",
    "        raise NotImplementedError(\"Subclasses must implement this method\")\n",
    "\n",
    "class Dog(Animal):\n",
    "    def speak(self, sound):\n",
    "        return f\"{self.name} speaks {sound}.\"\n",
    "\n",
    "class Cat(Animal):\n",
    "    def speak(self, sound):\n",
    "        return f\"{self.name} speaks {sound}\"\n",
    "    \n",
    "\n",
    "\n",
    "dog = Dog(\"Apoos\")\n",
    "cat = Cat(\"Jack\")\n",
    "\n",
    "print(dog.speak(\"Bow bow\"))\n",
    "print(cat.speak(\"Meow\"))"
   ]
  },
  {
   "cell_type": "code",
   "execution_count": null,
   "metadata": {},
   "outputs": [],
   "source": []
  }
 ],
 "metadata": {
  "kernelspec": {
   "display_name": "Python 3",
   "language": "python",
   "name": "python3"
  },
  "language_info": {
   "codemirror_mode": {
    "name": "ipython",
    "version": 3
   },
   "file_extension": ".py",
   "mimetype": "text/x-python",
   "name": "python",
   "nbconvert_exporter": "python",
   "pygments_lexer": "ipython3",
   "version": "3.9.6"
  }
 },
 "nbformat": 4,
 "nbformat_minor": 2
}
