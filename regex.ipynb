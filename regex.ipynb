{
 "cells": [
  {
   "cell_type": "markdown",
   "metadata": {},
   "source": [
    "Regular expressions (regex) in Python are a powerful tool for matching patterns in strings. Python’s re module provides support for working with regular expressions. "
   ]
  },
  {
   "cell_type": "code",
   "execution_count": 7,
   "metadata": {},
   "outputs": [
    {
     "name": "stdout",
     "output_type": "stream",
     "text": [
      "123\n",
      "123\n",
      "['123', '456']\n",
      "abc#def#ghi\n"
     ]
    }
   ],
   "source": [
    "import re\n",
    "\n",
    "# compile function\n",
    "\n",
    "pattern = re.compile(r'\\d+')\n",
    "\n",
    "match = pattern.match('123abc')\n",
    "\n",
    "if match:\n",
    "    print(match.group())\n",
    "\n",
    "\n",
    "# Search a pattern\n",
    "\n",
    "search = pattern.search('abc123def')\n",
    "\n",
    "if search:\n",
    "    print(search.group())\n",
    "\n",
    "\n",
    "# Find all occurances\n",
    "\n",
    "find_all = pattern.findall('abc123def456ghi')\n",
    "print(find_all)\n",
    "\n",
    "# replace with patterns\n",
    "\n",
    "replaced = pattern.sub(\"#\", \"abc123def456ghi\")\n",
    "print(replaced)\n"
   ]
  },
  {
   "cell_type": "code",
   "execution_count": 11,
   "metadata": {},
   "outputs": [
    {
     "name": "stdout",
     "output_type": "stream",
     "text": [
      "['$20', '$5']\n",
      "The price of the book is [PRICES]. The price of the pen is [PRICES].\n",
      "['The price of the book is ', '. The price of the pen is ', '.']\n"
     ]
    }
   ],
   "source": [
    "import re\n",
    "\n",
    "text = \"The price of the book is $20. The price of the pen is $5.\"\n",
    "pattern = re.compile(r'\\$\\d+')\n",
    "\n",
    "# find all matches\n",
    "\n",
    "prices = pattern.findall(text)\n",
    "print(prices)\n",
    "\n",
    "# Replace prices with [PRICE]\n",
    "\n",
    "new_text = pattern.sub(\"[PRICES]\", text)\n",
    "print(new_text)\n",
    "\n",
    "# Split text\n",
    "\n",
    "split_text = pattern.split(text)\n",
    "print(split_text)"
   ]
  }
 ],
 "metadata": {
  "kernelspec": {
   "display_name": "Python 3",
   "language": "python",
   "name": "python3"
  },
  "language_info": {
   "codemirror_mode": {
    "name": "ipython",
    "version": 3
   },
   "file_extension": ".py",
   "mimetype": "text/x-python",
   "name": "python",
   "nbconvert_exporter": "python",
   "pygments_lexer": "ipython3",
   "version": "3.9.6"
  }
 },
 "nbformat": 4,
 "nbformat_minor": 2
}
