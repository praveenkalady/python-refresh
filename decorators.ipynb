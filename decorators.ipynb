{
 "cells": [
  {
   "cell_type": "markdown",
   "metadata": {},
   "source": [
    "Decorators in Python are a powerful and useful tool that allows you to modify the behavior of a function or a class. They are typically used for logging, access control, memoization, and more. A decorator is a function that takes another function (or class) as an argument and returns a new function (or class) that usually extends the behavior of the original function in some way."
   ]
  },
  {
   "cell_type": "code",
   "execution_count": 3,
   "metadata": {},
   "outputs": [
    {
     "name": "stdout",
     "output_type": "stream",
     "text": [
      "Logging before func call.\n",
      "Actual function...\n",
      "Logging after func\n"
     ]
    }
   ],
   "source": [
    "def my_decorator(func):\n",
    "    def wrapper():\n",
    "        print(\"Logging before func call.\")\n",
    "        func()\n",
    "        print(\"Logging after func\")\n",
    "    return wrapper\n",
    "\n",
    "@my_decorator\n",
    "def say_hello():\n",
    "    print(\"Actual function...\")\n",
    "\n",
    "\n",
    "say_hello()"
   ]
  },
  {
   "cell_type": "code",
   "execution_count": 6,
   "metadata": {},
   "outputs": [
    {
     "name": "stdout",
     "output_type": "stream",
     "text": [
      "{'args': ('Praveen',), 'kwargs': {}}\n",
      "Hello Praveen!\n",
      "Hello Praveen!\n",
      "Hello Praveen!\n"
     ]
    }
   ],
   "source": [
    "def repeat(n):\n",
    "    def decorator(func):\n",
    "        def wrapper(*args, **kwargs):\n",
    "            print({\"args\":args, \"kwargs\":kwargs})\n",
    "            for _ in range(n):\n",
    "                func(*args,**kwargs)\n",
    "        return wrapper\n",
    "    return decorator\n",
    "\n",
    "@repeat(3)\n",
    "def greet(name):\n",
    "    print(f\"Hello {name}!\")\n",
    "\n",
    "greet(\"Praveen\")"
   ]
  },
  {
   "cell_type": "code",
   "execution_count": 9,
   "metadata": {},
   "outputs": [
    {
     "name": "stdout",
     "output_type": "stream",
     "text": [
      "Logging before the actual functions execution.\n",
      "Hello\n",
      "22\n"
     ]
    }
   ],
   "source": [
    "import functools\n",
    "\n",
    "def my_decorator(func):\n",
    "    @functools.wraps(func)\n",
    "    def wrapper(*args, **kwargs):\n",
    "        print(\"Logging before the actual functions execution.\")\n",
    "        result = func(*args, **kwargs)\n",
    "        return result\n",
    "    return wrapper\n",
    "\n",
    "@my_decorator\n",
    "def say_hello():\n",
    "    print(\"Hello\")\n",
    "\n",
    "res = say_hello()\n",
    "print(res)"
   ]
  },
  {
   "cell_type": "code",
   "execution_count": 11,
   "metadata": {},
   "outputs": [
    {
     "name": "stdout",
     "output_type": "stream",
     "text": [
      "Class instance created!\n",
      "This is a class method from decorator\n"
     ]
    }
   ],
   "source": [
    "# Adding decorators to class\n",
    "\n",
    "def add_method(cls):\n",
    "    def new_method(self):\n",
    "        print(\"This is a class method from decorator\")\n",
    "    cls.new_method = new_method\n",
    "    return cls\n",
    "\n",
    "@add_method\n",
    "class MyClass:\n",
    "    def __init__(self):\n",
    "        print(\"Class instance created!\")\n",
    "\n",
    "new_instance = MyClass()\n",
    "new_instance.new_method()\n"
   ]
  },
  {
   "cell_type": "code",
   "execution_count": 18,
   "metadata": {},
   "outputs": [
    {
     "name": "stdout",
     "output_type": "stream",
     "text": [
      "The operation done is add\n",
      "Calling add with args (2, 3) and kwargs {} with result 5\n",
      "The operation done is add\n",
      "Calling add with args (5, 6) and kwargs {} with result 11\n"
     ]
    },
    {
     "data": {
      "text/plain": [
       "11"
      ]
     },
     "execution_count": 18,
     "metadata": {},
     "output_type": "execute_result"
    }
   ],
   "source": [
    "import functools\n",
    "def log_main(operation):\n",
    "    def log(func):\n",
    "        @functools.wraps(func)\n",
    "        def wrapper(*args, **kwargs):\n",
    "            result = func(*args, **kwargs)\n",
    "            print(f\"The operation done is {operation}\")\n",
    "            print(f\"Calling {func.__name__} with args {args} and kwargs {kwargs} with result {result}\")\n",
    "            return result\n",
    "        return wrapper\n",
    "    return log\n",
    "\n",
    "\n",
    "@log_main(operation=\"add\")\n",
    "def add(x, y):\n",
    "    return x + y\n",
    "\n",
    "add(2,3)\n",
    "add(5,6)\n"
   ]
  }
 ],
 "metadata": {
  "kernelspec": {
   "display_name": "Python 3",
   "language": "python",
   "name": "python3"
  },
  "language_info": {
   "codemirror_mode": {
    "name": "ipython",
    "version": 3
   },
   "file_extension": ".py",
   "mimetype": "text/x-python",
   "name": "python",
   "nbconvert_exporter": "python",
   "pygments_lexer": "ipython3",
   "version": "3.9.6"
  }
 },
 "nbformat": 4,
 "nbformat_minor": 2
}
