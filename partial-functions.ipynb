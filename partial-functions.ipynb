{
 "cells": [
  {
   "cell_type": "markdown",
   "metadata": {},
   "source": [
    "Partial functions in Python are created using the functools.partial function from the functools module. They allow you to fix a certain number of arguments of a function and generate a new function. This can be useful for simplifying functions that you need to call multiple times with the same arguments."
   ]
  },
  {
   "cell_type": "code",
   "execution_count": 5,
   "metadata": {},
   "outputs": [
    {
     "name": "stdout",
     "output_type": "stream",
     "text": [
      "6\n"
     ]
    }
   ],
   "source": [
    "from functools import partial\n",
    "\n",
    "def multiply(x, y):\n",
    "    return x * y\n",
    "\n",
    "# Passing the function as first argument and the second argument as x value\n",
    "multiply_by_2 = partial(multiply, 2)\n",
    "\n",
    "result = multiply_by_2(3)\n",
    "print(result)"
   ]
  },
  {
   "cell_type": "code",
   "execution_count": 6,
   "metadata": {},
   "outputs": [
    {
     "name": "stdout",
     "output_type": "stream",
     "text": [
      "Hello, Praveen\n"
     ]
    }
   ],
   "source": [
    "from functools import partial\n",
    "\n",
    "def greet(name, greeting=\"Hello\"):\n",
    "    return f\"{greeting}, {name}\"\n",
    "\n",
    "say_hello = partial(greet, greeting=\"Hello\")\n",
    "\n",
    "print(say_hello(\"Praveen\"))"
   ]
  }
 ],
 "metadata": {
  "kernelspec": {
   "display_name": "Python 3",
   "language": "python",
   "name": "python3"
  },
  "language_info": {
   "codemirror_mode": {
    "name": "ipython",
    "version": 3
   },
   "file_extension": ".py",
   "mimetype": "text/x-python",
   "name": "python",
   "nbconvert_exporter": "python",
   "pygments_lexer": "ipython3",
   "version": "3.9.6"
  }
 },
 "nbformat": 4,
 "nbformat_minor": 2
}
