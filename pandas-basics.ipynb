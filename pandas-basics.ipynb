{
 "cells": [
  {
   "cell_type": "markdown",
   "metadata": {},
   "source": [
    "Pandas is a powerful data manipulation and analysis library for Python. It provides data structures like Series and DataFrame, which are essential for working with structured data."
   ]
  },
  {
   "cell_type": "code",
   "execution_count": 3,
   "metadata": {},
   "outputs": [
    {
     "name": "stdout",
     "output_type": "stream",
     "text": [
      "0    1.0\n",
      "1    2.0\n",
      "2    NaN\n",
      "3    4.0\n",
      "4    5.0\n",
      "dtype: float64\n"
     ]
    }
   ],
   "source": [
    "# series \n",
    "\n",
    "import pandas as pd\n",
    "import numpy as np\n",
    "\n",
    "series = pd.Series([1,2, np.nan, 4, 5])\n",
    "\n",
    "print(series)"
   ]
  },
  {
   "cell_type": "code",
   "execution_count": 4,
   "metadata": {},
   "outputs": [
    {
     "name": "stdout",
     "output_type": "stream",
     "text": [
      "   A  B   C\n",
      "0  1  5   9\n",
      "1  2  6  10\n",
      "2  3  7  11\n",
      "3  4  8  12\n"
     ]
    }
   ],
   "source": [
    "# Data frame\n",
    "import pandas as pd\n",
    "\n",
    "data = {\n",
    "    'A': [1, 2, 3, 4],\n",
    "    'B': [5, 6, 7, 8],\n",
    "    'C': [9, 10, 11, 12]\n",
    "}\n",
    "\n",
    "df = pd.DataFrame(data)\n",
    "\n",
    "print(df)"
   ]
  },
  {
   "cell_type": "code",
   "execution_count": 4,
   "metadata": {},
   "outputs": [
    {
     "name": "stdout",
     "output_type": "stream",
     "text": [
      "       Name  Age         City  Salary\n",
      "0     Alice   30     New York   70000\n",
      "1       Bob   25  Los Angeles   55000\n",
      "2   Charlie   35      Chicago   65000\n",
      "3     David   28      Houston   48000\n",
      "4       Eve   40      Phoenix   85000\n",
      "5     Alice   30     New York   70000\n",
      "6       Bob   25  Los Angeles   55000\n",
      "7   Charlie   35      Chicago   65000\n",
      "8     David   28      Houston   48000\n",
      "9       Eve   40      Phoenix   85000\n",
      "10    Alice   30     New York   70000\n",
      "11      Bob   25  Los Angeles   55000\n",
      "12  Charlie   35      Chicago   65000\n",
      "13    David   28      Houston   48000\n",
      "14      Eve   40      Phoenix   85000\n"
     ]
    }
   ],
   "source": [
    "# Reading a csv file\n",
    "\n",
    "import pandas as pd\n",
    "\n",
    "df = pd.read_csv(\"example.csv\");\n",
    "\n",
    "print(df)"
   ]
  },
  {
   "cell_type": "code",
   "execution_count": 3,
   "metadata": {},
   "outputs": [
    {
     "name": "stdout",
     "output_type": "stream",
     "text": [
      "      Name  Age         City  Salary\n",
      "0    Alice   30     New York   70000\n",
      "1      Bob   25  Los Angeles   55000\n",
      "2  Charlie   35      Chicago   65000\n",
      "3    David   28      Houston   48000\n",
      "4      Eve   40      Phoenix   85000\n",
      "       Name  Age         City  Salary\n",
      "10    Alice   30     New York   70000\n",
      "11      Bob   25  Los Angeles   55000\n",
      "12  Charlie   35      Chicago   65000\n",
      "13    David   28      Houston   48000\n",
      "14      Eve   40      Phoenix   85000\n"
     ]
    }
   ],
   "source": [
    "# Viewing data \n",
    "\n",
    "import pandas as pd\n",
    "\n",
    "df = pd.read_csv(\"example.csv\");\n",
    "\n",
    "print(df.head())\n",
    "print(df.tail())"
   ]
  },
  {
   "cell_type": "code",
   "execution_count": 9,
   "metadata": {},
   "outputs": [
    {
     "name": "stdout",
     "output_type": "stream",
     "text": [
      "             Age        Salary\n",
      "count  15.000000     15.000000\n",
      "mean   31.600000  64600.000000\n",
      "std     5.500649  13200.649335\n",
      "min    25.000000  48000.000000\n",
      "25%    28.000000  55000.000000\n",
      "50%    30.000000  65000.000000\n",
      "75%    35.000000  70000.000000\n",
      "max    40.000000  85000.000000\n"
     ]
    }
   ],
   "source": [
    "# statitics\n",
    "\n",
    "import pandas as pd\n",
    "\n",
    "df = pd.read_csv(\"example.csv\")\n",
    "\n",
    "print(df.describe())"
   ]
  }
 ],
 "metadata": {
  "kernelspec": {
   "display_name": "Python 3",
   "language": "python",
   "name": "python3"
  },
  "language_info": {
   "codemirror_mode": {
    "name": "ipython",
    "version": 3
   },
   "file_extension": ".py",
   "mimetype": "text/x-python",
   "name": "python",
   "nbconvert_exporter": "python",
   "pygments_lexer": "ipython3",
   "version": "3.9.6"
  }
 },
 "nbformat": 4,
 "nbformat_minor": 2
}
