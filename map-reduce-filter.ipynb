{
 "cells": [
  {
   "cell_type": "markdown",
   "metadata": {},
   "source": [
    "In Python, map, reduce, and filter are built-in functions that provide a functional programming approach to processing iterables (like lists and tuples)"
   ]
  },
  {
   "cell_type": "code",
   "execution_count": 2,
   "metadata": {},
   "outputs": [
    {
     "name": "stdout",
     "output_type": "stream",
     "text": [
      "[1, 4, 9, 16, 25]\n"
     ]
    }
   ],
   "source": [
    "# Using map\n",
    "\n",
    "def square(x):\n",
    "    return x ** 2\n",
    "\n",
    "array = [1,2,3,4,5]\n",
    "\n",
    "squared_array = map(square, array)\n",
    "\n",
    "print(list(squared_array))"
   ]
  },
  {
   "cell_type": "code",
   "execution_count": 3,
   "metadata": {},
   "outputs": [
    {
     "name": "stdout",
     "output_type": "stream",
     "text": [
      "[2, 4]\n"
     ]
    }
   ],
   "source": [
    "# Using filter function\n",
    "\n",
    "def filter_func(x):\n",
    "    if x % 2 == 0:\n",
    "        return x\n",
    "\n",
    "numbers = [1,2,3,4,5]\n",
    "\n",
    "filtered_numbers = filter(filter_func, numbers)\n",
    "\n",
    "print(list(filtered_numbers))"
   ]
  },
  {
   "cell_type": "code",
   "execution_count": 6,
   "metadata": {},
   "outputs": [
    {
     "name": "stdout",
     "output_type": "stream",
     "text": [
      "499500\n"
     ]
    }
   ],
   "source": [
    "# Using reduce fucntion\n",
    "\n",
    "from functools import reduce\n",
    "\n",
    "def add(x, y):\n",
    "    return x + y\n",
    "\n",
    "numbers = [x for x in range(1000)]\n",
    "\n",
    "sum_array = reduce(add, numbers)\n",
    "\n",
    "print(sum_array)"
   ]
  }
 ],
 "metadata": {
  "kernelspec": {
   "display_name": "Python 3",
   "language": "python",
   "name": "python3"
  },
  "language_info": {
   "codemirror_mode": {
    "name": "ipython",
    "version": 3
   },
   "file_extension": ".py",
   "mimetype": "text/x-python",
   "name": "python",
   "nbconvert_exporter": "python",
   "pygments_lexer": "ipython3",
   "version": "3.9.6"
  }
 },
 "nbformat": 4,
 "nbformat_minor": 2
}
