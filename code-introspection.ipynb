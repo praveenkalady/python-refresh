{
 "cells": [
  {
   "cell_type": "markdown",
   "metadata": {},
   "source": [
    "Code introspection in Python refers to the ability to examine classes, functions, and modules at runtime. Python provides several built-in functions and modules that make it easy to inspect and interact with code objects."
   ]
  },
  {
   "cell_type": "code",
   "execution_count": 11,
   "metadata": {},
   "outputs": [
    {
     "name": "stdout",
     "output_type": "stream",
     "text": [
      "<class '__main__.MyClass'>\n",
      "['__class__', '__delattr__', '__dict__', '__dir__', '__doc__', '__eq__', '__format__', '__ge__', '__getattribute__', '__gt__', '__hash__', '__init__', '__init_subclass__', '__le__', '__lt__', '__module__', '__ne__', '__new__', '__reduce__', '__reduce_ex__', '__repr__', '__setattr__', '__sizeof__', '__str__', '__subclasshook__', '__weakref__', 'method', 'x']\n",
      "4479571472\n",
      "10\n",
      "True\n",
      "20\n",
      "True\n",
      "[('__class__', <class '__main__.MyClass'>), ('__delattr__', <method-wrapper '__delattr__' of MyClass object at 0x10b00d610>), ('__dict__', {'x': 20}), ('__dir__', <built-in method __dir__ of MyClass object at 0x10b00d610>), ('__doc__', None), ('__eq__', <method-wrapper '__eq__' of MyClass object at 0x10b00d610>), ('__format__', <built-in method __format__ of MyClass object at 0x10b00d610>), ('__ge__', <method-wrapper '__ge__' of MyClass object at 0x10b00d610>), ('__getattribute__', <method-wrapper '__getattribute__' of MyClass object at 0x10b00d610>), ('__gt__', <method-wrapper '__gt__' of MyClass object at 0x10b00d610>), ('__hash__', <method-wrapper '__hash__' of MyClass object at 0x10b00d610>), ('__init__', <bound method MyClass.__init__ of <__main__.MyClass object at 0x10b00d610>>), ('__init_subclass__', <built-in method __init_subclass__ of type object at 0x104d94800>), ('__le__', <method-wrapper '__le__' of MyClass object at 0x10b00d610>), ('__lt__', <method-wrapper '__lt__' of MyClass object at 0x10b00d610>), ('__module__', '__main__'), ('__ne__', <method-wrapper '__ne__' of MyClass object at 0x10b00d610>), ('__new__', <built-in method __new__ of type object at 0x10335e6c8>), ('__reduce__', <built-in method __reduce__ of MyClass object at 0x10b00d610>), ('__reduce_ex__', <built-in method __reduce_ex__ of MyClass object at 0x10b00d610>), ('__repr__', <method-wrapper '__repr__' of MyClass object at 0x10b00d610>), ('__setattr__', <method-wrapper '__setattr__' of MyClass object at 0x10b00d610>), ('__sizeof__', <built-in method __sizeof__ of MyClass object at 0x10b00d610>), ('__str__', <method-wrapper '__str__' of MyClass object at 0x10b00d610>), ('__subclasshook__', <built-in method __subclasshook__ of type object at 0x104d94800>), ('__weakref__', None), ('method', <bound method MyClass.method of <__main__.MyClass object at 0x10b00d610>>), ('x', 20)]\n"
     ]
    }
   ],
   "source": [
    "import inspect\n",
    "\n",
    "class MyClass:\n",
    "    def __init__(self, x):\n",
    "        self.x = x\n",
    "    def method(self):\n",
    "        return self.x\n",
    "\n",
    "my_object = MyClass(10)\n",
    "\n",
    "print(type(my_object))\n",
    "\n",
    "print(dir(my_object))\n",
    "\n",
    "print(id(my_object))\n",
    "\n",
    "print(getattr(my_object, \"x\"))\n",
    "\n",
    "print(hasattr(my_object, \"method\"))\n",
    "\n",
    "setattr(my_object, \"x\", 20)\n",
    "\n",
    "print(getattr(my_object,\"x\"))\n",
    "\n",
    "print(callable(my_object.method))\n",
    "\n",
    "print(inspect.getmembers(my_object))\n",
    "\n",
    "# print(inspect.getsource(my_object))\n",
    "\n"
   ]
  }
 ],
 "metadata": {
  "kernelspec": {
   "display_name": "Python 3",
   "language": "python",
   "name": "python3"
  },
  "language_info": {
   "codemirror_mode": {
    "name": "ipython",
    "version": 3
   },
   "file_extension": ".py",
   "mimetype": "text/x-python",
   "name": "python",
   "nbconvert_exporter": "python",
   "pygments_lexer": "ipython3",
   "version": "3.9.6"
  }
 },
 "nbformat": 4,
 "nbformat_minor": 2
}
