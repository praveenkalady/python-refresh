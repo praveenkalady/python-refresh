{
 "cells": [
  {
   "cell_type": "markdown",
   "metadata": {},
   "source": [
    "Serialization in Python refers to the process of converting a Python object into a byte stream, which can then be stored in a file, sent over a network, or otherwise persisted. Deserialization is the inverse process—converting a byte stream back into a Python object. This is particularly useful for saving the state of an object or for inter-process communication."
   ]
  },
  {
   "cell_type": "code",
   "execution_count": 14,
   "metadata": {},
   "outputs": [
    {
     "name": "stdout",
     "output_type": "stream",
     "text": [
      "{'key': 'value', 'number': 42}\n"
     ]
    }
   ],
   "source": [
    "#Using pickle\n",
    "\n",
    "import pickle\n",
    "\n",
    "data = {'key': 'value', 'number': 42}\n",
    "\n",
    "# serialize the dictionary\n",
    "\n",
    "with open(\"data.pickle\", \"wb\") as file:\n",
    "    pickle.dump(data, file)\n",
    "\n",
    "with open(\"data.pickle\", \"rb\") as file:\n",
    "    loaded_data = pickle.load(file)\n",
    "\n",
    "print(loaded_data)"
   ]
  },
  {
   "cell_type": "code",
   "execution_count": 15,
   "metadata": {},
   "outputs": [
    {
     "name": "stdout",
     "output_type": "stream",
     "text": [
      "{'key': 'value', 'number': 42}\n"
     ]
    }
   ],
   "source": [
    "# Using json\n",
    "\n",
    "import json\n",
    "\n",
    "data = {'key': 'value', 'number': 42}\n",
    "\n",
    "with open(\"data.json\", \"w\") as file:\n",
    "    json.dump(data, file)\n",
    "\n",
    "with open(\"data.json\", \"r\") as file:\n",
    "    loaded_data = json.load(file)\n",
    "\n",
    "print(loaded_data)"
   ]
  },
  {
   "cell_type": "code",
   "execution_count": 16,
   "metadata": {},
   "outputs": [
    {
     "name": "stdout",
     "output_type": "stream",
     "text": [
      "Hello world!\n"
     ]
    }
   ],
   "source": [
    "# Using marshal to store code\n",
    "\n",
    "import marshal\n",
    "\n",
    "code = compile(\"print('Hello world!')\", '', \"exec\")\n",
    "\n",
    "with open(\"code.marshal\", \"wb\") as file:\n",
    "    marshal.dump(code, file)\n",
    "\n",
    "with open(\"code.marshal\", \"rb\") as file:\n",
    "    loaded_code = marshal.load(file)\n",
    "\n",
    "exec(loaded_code)"
   ]
  }
 ],
 "metadata": {
  "kernelspec": {
   "display_name": "Python 3",
   "language": "python",
   "name": "python3"
  },
  "language_info": {
   "codemirror_mode": {
    "name": "ipython",
    "version": 3
   },
   "file_extension": ".py",
   "mimetype": "text/x-python",
   "name": "python",
   "nbconvert_exporter": "python",
   "pygments_lexer": "ipython3",
   "version": "3.9.6"
  }
 },
 "nbformat": 4,
 "nbformat_minor": 2
}
