{
 "cells": [
  {
   "cell_type": "markdown",
   "metadata": {},
   "source": [
    "Dictionaries in Python are a collection of key-value pairs. Each key-value pair maps the key to its associated value, and each key must be unique within a dictionary. Dictionaries are mutable, meaning that they can be changed after their creation, and they are also unordered, meaning that the items do not have a defined order and that order can change."
   ]
  },
  {
   "cell_type": "code",
   "execution_count": 30,
   "metadata": {},
   "outputs": [
    {
     "name": "stdout",
     "output_type": "stream",
     "text": [
      "{'name': 'John', 'age': 23, 'city': 'Kochi'}\n",
      "John\n",
      "23\n",
      "Kochi\n",
      "{'name': 'John', 'age': 23}\n",
      "{'name': 'John', 'age': 23, 'city': 'Edappal'}\n",
      "John\n",
      "23\n",
      "Edappal\n",
      "name:John\n",
      "age:23\n",
      "city:Edappal\n",
      "Name key found on the dictionary!\n",
      "John\n",
      "dict_keys(['name', 'age', 'city'])\n",
      "dict_values(['John', 23, 'Edappal'])\n",
      "dict_items([('name', 'John'), ('age', 23), ('city', 'Edappal')])\n"
     ]
    }
   ],
   "source": [
    "# Creatiing a dictionary\n",
    "\n",
    "person = {\n",
    "    \"name\": \"John\",\n",
    "    \"age\": 23,\n",
    "    \"city\": \"Kochi\"\n",
    "}\n",
    "\n",
    "print(person)\n",
    "print(person[\"name\"])\n",
    "print(person[\"age\"])\n",
    "print(person[\"city\"])\n",
    "\n",
    "# deleting a key from the dictionary\n",
    "\n",
    "del person[\"city\"]\n",
    "\n",
    "print(person)\n",
    "\n",
    "# adding a item to the dictionary\n",
    "\n",
    "person[\"city\"] = \"Edappal\"\n",
    "print(person)\n",
    "\n",
    "# Iterating through a dictionary\n",
    "\n",
    "for key in person:\n",
    "    print(person[key])\n",
    "\n",
    "\n",
    "for key, value in person.items():\n",
    "    print(f\"{key}:{value}\")\n",
    "\n",
    "\n",
    "# checking a key exist or not\n",
    "\n",
    "if \"name\" in person:\n",
    "    print(\"Name key found on the dictionary!\")\n",
    "else:\n",
    "    print(\"No key found!\")\n",
    "\n",
    "# getting  value of a key form the dictionary using the get method\n",
    "\n",
    "print(person.get(\"name\",\"Unknown\"))\n",
    "\n",
    "# Getting all the keys from the dictionary\n",
    "print(person.keys())\n",
    "\n",
    "# Getting all the values from the dictionary\n",
    "print(person.values())\n",
    "\n",
    "# Getting all items as pair from the dictionary\n",
    "print(person.items())\n"
   ]
  }
 ],
 "metadata": {
  "kernelspec": {
   "display_name": "Python 3",
   "language": "python",
   "name": "python3"
  },
  "language_info": {
   "codemirror_mode": {
    "name": "ipython",
    "version": 3
   },
   "file_extension": ".py",
   "mimetype": "text/x-python",
   "name": "python",
   "nbconvert_exporter": "python",
   "pygments_lexer": "ipython3",
   "version": "3.9.6"
  }
 },
 "nbformat": 4,
 "nbformat_minor": 2
}
