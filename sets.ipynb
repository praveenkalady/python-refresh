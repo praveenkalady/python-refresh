{
 "cells": [
  {
   "cell_type": "markdown",
   "metadata": {},
   "source": [
    "In Python, a set is an unordered collection of unique elements. Sets are defined by the set keyword or by using curly braces {}. "
   ]
  },
  {
   "cell_type": "code",
   "execution_count": 11,
   "metadata": {},
   "outputs": [
    {
     "name": "stdout",
     "output_type": "stream",
     "text": [
      "{1, 2, 3, 4}\n",
      "{1, 2, 3, 4}\n",
      "{1, 2, 3, 4, 5}\n",
      "{1, 2, 3, 4}\n",
      "True\n"
     ]
    }
   ],
   "source": [
    "my_set = {1,2,3,4}\n",
    "print(my_set)\n",
    "\n",
    "# Using the set function\n",
    "\n",
    "my_set_new = set([1,2,3,4])\n",
    "print(my_set_new)\n",
    "\n",
    "# Adding to set\n",
    "\n",
    "my_set.add(5)\n",
    "print(my_set)\n",
    "\n",
    "\n",
    "# Removing from set\n",
    "\n",
    "my_set.remove(5) # Raise KeyError when 5 is not found\n",
    "my_set.discard(5) # Does not raise any error\n",
    "print(my_set)\n",
    "\n",
    "print(2 in my_set) # Checking an element exist or not\n",
    "\n"
   ]
  },
  {
   "cell_type": "code",
   "execution_count": 41,
   "metadata": {},
   "outputs": [
    {
     "name": "stdout",
     "output_type": "stream",
     "text": [
      "{1, 2, 3, 4, 5, 6, 7, 8, 9}\n",
      "set()\n",
      "{1, 2, 3, 4}\n",
      "{1, 2, 3, 4, 5, 6, 7, 8, 9}\n",
      "{0, 2, 4, 6, 8, 10, 12, 14, 16, 18, 20, 22, 24, 26, 28, 30, 32, 34, 36, 38, 40, 42, 44, 46, 48, 50, 52, 54, 56, 58, 60, 62, 64, 66, 68, 70, 72, 74, 76, 78, 80, 82, 84, 86, 88, 90, 92, 94, 96, 98}\n",
      "set()\n",
      "{1, 2, 3, 4}\n",
      "frozenset({1, 2, 3, 4, 5})\n"
     ]
    }
   ],
   "source": [
    "# Set operations\n",
    "\n",
    "# Union\n",
    "my_set = {1,2,3,4}\n",
    "my_set_new = {5,6,7,8,9}\n",
    "merged_set = my_set.union(my_set_new)\n",
    "print(merged_set)\n",
    "\n",
    "#Intersection\n",
    "\n",
    "inter_set = my_set.intersection(my_set_new)\n",
    "print(inter_set)\n",
    "\n",
    "#Difference\n",
    "\n",
    "diff_set = my_set.difference(my_set_new)\n",
    "print(diff_set)\n",
    "\n",
    "#Symmetric difference\n",
    "\n",
    "sym_diff_set = my_set_new.symmetric_difference(my_set)\n",
    "print(sym_diff_set)\n",
    "\n",
    "# Set comprehensions\n",
    "\n",
    "auto_set = {x for x in range(100) if x % 2 == 0}\n",
    "print(auto_set)\n",
    "\n",
    "#Clearing a set\n",
    "\n",
    "auto_set.clear()\n",
    "print(auto_set)\n",
    "\n",
    "# copy a set\n",
    "\n",
    "copy_set = my_set.copy()\n",
    "print(copy_set)\n",
    "\n",
    "# Immutable version of set\n",
    "\n",
    "imm_set = frozenset([1,2,3,4,5])\n",
    "print(imm_set)\n",
    "\n"
   ]
  }
 ],
 "metadata": {
  "kernelspec": {
   "display_name": "Python 3",
   "language": "python",
   "name": "python3"
  },
  "language_info": {
   "codemirror_mode": {
    "name": "ipython",
    "version": 3
   },
   "file_extension": ".py",
   "mimetype": "text/x-python",
   "name": "python",
   "nbconvert_exporter": "python",
   "pygments_lexer": "ipython3",
   "version": "3.9.6"
  }
 },
 "nbformat": 4,
 "nbformat_minor": 2
}
