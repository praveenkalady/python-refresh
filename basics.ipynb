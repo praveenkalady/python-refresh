{
 "cells": [
  {
   "cell_type": "markdown",
   "metadata": {},
   "source": [
    "Hello world"
   ]
  },
  {
   "cell_type": "code",
   "execution_count": 1,
   "metadata": {},
   "outputs": [
    {
     "name": "stdout",
     "output_type": "stream",
     "text": [
      "Hello world!\n"
     ]
    }
   ],
   "source": [
    "print(\"Hello world!\")"
   ]
  },
  {
   "cell_type": "markdown",
   "metadata": {},
   "source": [
    "operators"
   ]
  },
  {
   "cell_type": "code",
   "execution_count": 8,
   "metadata": {},
   "outputs": [
    {
     "name": "stdout",
     "output_type": "stream",
     "text": [
      "Sum: 7\n",
      "Substraction: -3\n",
      "Multiple: 10\n",
      "Division: 0.4\n",
      "Exponent: 32\n"
     ]
    }
   ],
   "source": [
    "# assignment\n",
    "a = 2\n",
    "b = 5\n",
    "\n",
    "# arithematic\n",
    "# add\n",
    "sum =  a + b\n",
    "print(\"Sum:\",sum)\n",
    "# substract\n",
    "substraction = a - b\n",
    "print(\"Substraction:\", substraction)\n",
    "#multiplication\n",
    "multiple = a * b\n",
    "print(\"Multiple:\", multiple)\n",
    "#division\n",
    "division = a / b\n",
    "print(\"Division:\", division)\n",
    "# Exponents\n",
    "exponent = a ** b\n",
    "print(\"Exponent:\", exponent)"
   ]
  },
  {
   "cell_type": "markdown",
   "metadata": {},
   "source": [
    "Conditions"
   ]
  },
  {
   "cell_type": "code",
   "execution_count": 10,
   "metadata": {},
   "outputs": [
    {
     "name": "stdout",
     "output_type": "stream",
     "text": [
      "a is greater than b\n",
      "a is grater than b\n"
     ]
    }
   ],
   "source": [
    "a = 5\n",
    "b = 3\n",
    "c = 2\n",
    "\n",
    "# if condition\n",
    "\n",
    "if a > b:\n",
    "    print(\"a is greater than b\")\n",
    "else:\n",
    "    print(\"a is less than b\")\n",
    "\n",
    "\n",
    "# if with elif\n",
    "\n",
    "if a > b:\n",
    "    print(\"a is grater than b\")\n",
    "elif a > c:\n",
    "    print(\"a is greater than c\")\n",
    "else:\n",
    "    print(\" b or c must be a greater value than a\")\n",
    "    "
   ]
  },
  {
   "cell_type": "markdown",
   "metadata": {},
   "source": [
    "Ternary condition"
   ]
  },
  {
   "cell_type": "code",
   "execution_count": 3,
   "metadata": {},
   "outputs": [
    {
     "name": "stdout",
     "output_type": "stream",
     "text": [
      "5 greater than 3\n"
     ]
    }
   ],
   "source": [
    "print(\"5 greater than 3\") if 5 > 3 else print(\"False condition\")"
   ]
  }
 ],
 "metadata": {
  "kernelspec": {
   "display_name": "Python 3",
   "language": "python",
   "name": "python3"
  },
  "language_info": {
   "codemirror_mode": {
    "name": "ipython",
    "version": 3
   },
   "file_extension": ".py",
   "mimetype": "text/x-python",
   "name": "python",
   "nbconvert_exporter": "python",
   "pygments_lexer": "ipython3",
   "version": "3.9.6"
  }
 },
 "nbformat": 4,
 "nbformat_minor": 2
}
