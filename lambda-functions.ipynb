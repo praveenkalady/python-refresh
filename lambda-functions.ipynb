{
 "cells": [
  {
   "cell_type": "markdown",
   "metadata": {},
   "source": [
    "Lambda functions in Python are small anonymous functions defined using the lambda keyword. They can have any number of arguments but only one expression. The expression is evaluated and returned when the function is called"
   ]
  },
  {
   "cell_type": "code",
   "execution_count": 2,
   "metadata": {},
   "outputs": [
    {
     "name": "stdout",
     "output_type": "stream",
     "text": [
      "30\n",
      "4\n"
     ]
    }
   ],
   "source": [
    "# simple usage of lambda functions\n",
    "\n",
    "add_ten = lambda x: x + 10\n",
    "\n",
    "print(add_ten(20))\n",
    "\n",
    "multiply_two_numbers = lambda x, y: x * y\n",
    "\n",
    "print(multiply_two_numbers(2,2))\n"
   ]
  },
  {
   "cell_type": "code",
   "execution_count": 7,
   "metadata": {},
   "outputs": [
    {
     "name": "stdout",
     "output_type": "stream",
     "text": [
      "{'actual_numbers': [0, 1, 4, 9, 16, 25, 36, 49, 64, 81], 'squared_numbers': [0, 1, 16, 81, 256, 625, 1296, 2401, 4096, 6561]}\n"
     ]
    }
   ],
   "source": [
    "# lamda function to square numbers in a list\n",
    "\n",
    "numbers = [num**2 for num in range(10)]\n",
    "\n",
    "squared = list(map(lambda x: x**2, numbers))\n",
    "\n",
    "print({\n",
    "    \"actual_numbers\": numbers,\n",
    "    \"squared_numbers\": squared\n",
    "})"
   ]
  },
  {
   "cell_type": "code",
   "execution_count": 8,
   "metadata": {},
   "outputs": [
    {
     "name": "stdout",
     "output_type": "stream",
     "text": [
      "{'actual_numbers': [0, 1, 2, 3, 4, 5, 6, 7, 8, 9], 'filtered_numbers': [0, 2, 4, 6, 8]}\n"
     ]
    }
   ],
   "source": [
    "# filtering a list using lambda functions\n",
    "\n",
    "numbers = [num for num in range(10)]\n",
    "filtered = list(filter(lambda x: x % 2 == 0, numbers))\n",
    "print({\n",
    "    \"actual_numbers\": numbers,\n",
    "    \"filtered_numbers\": filtered\n",
    "})"
   ]
  }
 ],
 "metadata": {
  "kernelspec": {
   "display_name": "Python 3",
   "language": "python",
   "name": "python3"
  },
  "language_info": {
   "codemirror_mode": {
    "name": "ipython",
    "version": 3
   },
   "file_extension": ".py",
   "mimetype": "text/x-python",
   "name": "python",
   "nbconvert_exporter": "python",
   "pygments_lexer": "ipython3",
   "version": "3.9.6"
  }
 },
 "nbformat": 4,
 "nbformat_minor": 2
}
