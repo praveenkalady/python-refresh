{
 "cells": [
  {
   "cell_type": "markdown",
   "metadata": {},
   "source": [
    "In Python, a closure is a function object that remembers values in enclosing scopes even if they are not present in memory. Closures are created by nested functions, which can capture and remember values from their containing (enclosing) function even after the enclosing function has finished executing."
   ]
  },
  {
   "cell_type": "code",
   "execution_count": 2,
   "metadata": {},
   "outputs": [
    {
     "name": "stdout",
     "output_type": "stream",
     "text": [
      "This is the message passed to closure.\n"
     ]
    }
   ],
   "source": [
    "def outer_function(msg):\n",
    "    def inner_function():\n",
    "        print(msg)\n",
    "    return inner_function\n",
    "\n",
    "closure = outer_function(\"This is the message passed to closure.\")\n",
    "\n",
    "closure()"
   ]
  },
  {
   "cell_type": "code",
   "execution_count": 5,
   "metadata": {},
   "outputs": [
    {
     "name": "stdout",
     "output_type": "stream",
     "text": [
      "2 times 5 = 10\n",
      "3 times 5 = 15\n"
     ]
    }
   ],
   "source": [
    "# A common use case for closures is creating function factories:\n",
    "\n",
    "def make_multiplier(x):\n",
    "    def multiplier(n):\n",
    "        return x * n\n",
    "    return multiplier\n",
    "\n",
    "times2 = make_multiplier(2)\n",
    "times3 = make_multiplier(3)\n",
    "\n",
    "result1 = times2(5)\n",
    "result2 = times3(5)\n",
    "\n",
    "print(f\"2 times 5 = {result1}\")\n",
    "print(f\"3 times 5 = {result2}\")"
   ]
  }
 ],
 "metadata": {
  "kernelspec": {
   "display_name": "Python 3",
   "language": "python",
   "name": "python3"
  },
  "language_info": {
   "codemirror_mode": {
    "name": "ipython",
    "version": 3
   },
   "file_extension": ".py",
   "mimetype": "text/x-python",
   "name": "python",
   "nbconvert_exporter": "python",
   "pygments_lexer": "ipython3",
   "version": "3.9.6"
  }
 },
 "nbformat": 4,
 "nbformat_minor": 2
}
