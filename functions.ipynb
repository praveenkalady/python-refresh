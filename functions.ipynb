{
 "cells": [
  {
   "cell_type": "markdown",
   "metadata": {},
   "source": [
    "functions in python"
   ]
  },
  {
   "cell_type": "code",
   "execution_count": 2,
   "metadata": {},
   "outputs": [
    {
     "name": "stdout",
     "output_type": "stream",
     "text": [
      "Hello from a python function.\n"
     ]
    }
   ],
   "source": [
    "# Basic function\n",
    "def greetings():\n",
    "    print(\"Hello from a python function.\")\n",
    "\n",
    "greetings()"
   ]
  },
  {
   "cell_type": "code",
   "execution_count": 3,
   "metadata": {},
   "outputs": [
    {
     "name": "stdout",
     "output_type": "stream",
     "text": [
      "7\n"
     ]
    }
   ],
   "source": [
    "# Function with arguments\n",
    "\n",
    "def add(x, y):\n",
    "    print(x + y)\n",
    "\n",
    "add(2,5)"
   ]
  },
  {
   "cell_type": "code",
   "execution_count": 4,
   "metadata": {},
   "outputs": [
    {
     "name": "stdout",
     "output_type": "stream",
     "text": [
      "7\n"
     ]
    }
   ],
   "source": [
    "# Function with return value\n",
    "\n",
    "def add(x, y):\n",
    "    return x + y\n",
    "\n",
    "sum = add(3,4)\n",
    "print(sum)"
   ]
  },
  {
   "cell_type": "code",
   "execution_count": 5,
   "metadata": {},
   "outputs": [
    {
     "name": "stdout",
     "output_type": "stream",
     "text": [
      "Hello from Praveen.\n"
     ]
    }
   ],
   "source": [
    "# functions with default parameters\n",
    "\n",
    "def greetings(name, msg=\"Hello\"):\n",
    "    print(f\"{msg} from {name}.\")\n",
    "\n",
    "\n",
    "greetings(\"Praveen\")"
   ]
  },
  {
   "cell_type": "code",
   "execution_count": 6,
   "metadata": {},
   "outputs": [
    {
     "name": "stdout",
     "output_type": "stream",
     "text": [
      "1\n",
      "2\n",
      "3\n",
      "4\n",
      "5\n",
      "Hello\n",
      "True\n"
     ]
    }
   ],
   "source": [
    "# functions with multiple arguments\n",
    "\n",
    "def print_args(*args):\n",
    "    for arg in args:\n",
    "        print(arg)\n",
    "\n",
    "\n",
    "print_args(1,2,3,4,5,\"Hello\",True)"
   ]
  },
  {
   "cell_type": "code",
   "execution_count": 7,
   "metadata": {},
   "outputs": [
    {
     "name": "stdout",
     "output_type": "stream",
     "text": [
      "a = 3\n",
      "b = hello\n",
      "c = False\n"
     ]
    }
   ],
   "source": [
    "# Functions with keyword args\n",
    "\n",
    "def print_keyword_args(**kwargs):\n",
    "    for key, value in kwargs.items():\n",
    "        print(f\"{key} = {value}\")\n",
    "\n",
    "\n",
    "print_keyword_args(a=3,b=\"hello\",c=False)"
   ]
  },
  {
   "cell_type": "code",
   "execution_count": 8,
   "metadata": {},
   "outputs": [
    {
     "name": "stdout",
     "output_type": "stream",
     "text": [
      "9\n"
     ]
    }
   ],
   "source": [
    "# lambda functions\n",
    "\n",
    "# lambda functions are small anonymous functions defained within the lambda definition\n",
    "\n",
    "add = lambda x, y : x + y\n",
    "\n",
    "sum = add(4,5)\n",
    "\n",
    "print(sum)"
   ]
  },
  {
   "cell_type": "code",
   "execution_count": 10,
   "metadata": {},
   "outputs": [
    {
     "name": "stdout",
     "output_type": "stream",
     "text": [
      "10\n",
      "{'x': <class 'int'>, 'y': <class 'int'>}\n"
     ]
    }
   ],
   "source": [
    "# function annotations\n",
    "\n",
    "def add_numbers(x: int, y: int):\n",
    "    return x + y\n",
    "\n",
    "print(add_numbers(5,5))\n",
    "print(add_numbers.__annotations__)"
   ]
  }
 ],
 "metadata": {
  "kernelspec": {
   "display_name": "Python 3",
   "language": "python",
   "name": "python3"
  },
  "language_info": {
   "codemirror_mode": {
    "name": "ipython",
    "version": 3
   },
   "file_extension": ".py",
   "mimetype": "text/x-python",
   "name": "python",
   "nbconvert_exporter": "python",
   "pygments_lexer": "ipython3",
   "version": "3.9.6"
  }
 },
 "nbformat": 4,
 "nbformat_minor": 2
}
