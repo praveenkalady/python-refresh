{
 "cells": [
  {
   "cell_type": "markdown",
   "metadata": {},
   "source": [
    "Python lists"
   ]
  },
  {
   "cell_type": "code",
   "execution_count": 5,
   "metadata": {},
   "outputs": [
    {
     "name": "stdout",
     "output_type": "stream",
     "text": [
      "[1, 3, 'Hey', False, True]\n",
      "5\n",
      "1\n",
      "True\n"
     ]
    }
   ],
   "source": [
    "ls = [1,3,\"Hey\", False, True]\n",
    "\n",
    "print(ls)\n",
    "print(len(ls))\n",
    "print(ls[0])\n",
    "print(ls[4])\n"
   ]
  },
  {
   "cell_type": "markdown",
   "metadata": {},
   "source": [
    "List basic operations"
   ]
  },
  {
   "cell_type": "code",
   "execution_count": 24,
   "metadata": {},
   "outputs": [
    {
     "name": "stdout",
     "output_type": "stream",
     "text": [
      "[1, 3, 4, 5, 7, 9, 10, 12]\n",
      "[1, 3, 4, 5, 7, 9, 10, 12, 2, 6]\n",
      "[1, 'a', 3, 4, 5, 7, 9, 10, 12, 2, 6]\n",
      "[1, 3, 4, 5, 7, 9, 10, 12, 2, 6]\n",
      "[1, 3, 4, 5, 7, 9, 10, 12, 2]\n",
      "[1, 3, 5, 7, 9, 10, 12, 2]\n",
      "1\n",
      "2\n",
      "[1, 2, 3, 4, 5, 5, 7, 9, 10, 12]\n",
      "[12, 10, 9, 7, 5, 5, 4, 3, 2, 1]\n",
      "[12, 10, 9, 7, 5, 5, 4, 3, 2, 1]\n",
      "[]\n"
     ]
    }
   ],
   "source": [
    "my_number_list = [1,3,4,5,7,9,10]\n",
    "\n",
    "\n",
    "#append\n",
    "my_number_list.append(12)\n",
    "\n",
    "print(my_number_list)\n",
    "\n",
    "#extend \n",
    "\n",
    "my_number_list.extend([2,6])\n",
    "\n",
    "print(my_number_list)\n",
    "\n",
    "# insert\n",
    "\n",
    "my_number_list.insert(1,'a')\n",
    "\n",
    "print(my_number_list)\n",
    "\n",
    "# remove\n",
    "# removes the first item from the list that has the value of x\n",
    "\n",
    "my_number_list.remove('a')\n",
    "print(my_number_list)\n",
    "\n",
    "# pop\n",
    "\n",
    "# It simply removes the last item in the list if we didn't mention the index\n",
    "my_number_list.pop()\n",
    "print(my_number_list)\n",
    "\n",
    "my_number_list.pop(2)\n",
    "\n",
    "print(my_number_list);\n",
    "\n",
    "\n",
    "# find index of something \n",
    "\n",
    "print(my_number_list.index(3))\n",
    "\n",
    "# count\n",
    "\n",
    "my_number_list.extend([5,4])\n",
    "print(my_number_list.count(5))\n",
    "\n",
    "# sort\n",
    "my_number_list.sort()\n",
    "print(my_number_list)\n",
    "\n",
    "# reverse\n",
    "\n",
    "my_number_list.reverse()\n",
    "print(my_number_list)\n",
    "\n",
    "# copy list\n",
    "\n",
    "copy_list = my_number_list.copy()\n",
    "print(copy_list)\n",
    "\n",
    "# clearing an array\n",
    "\n",
    "my_number_list.clear()\n",
    "\n",
    "print(my_number_list)"
   ]
  }
 ],
 "metadata": {
  "kernelspec": {
   "display_name": "Python 3",
   "language": "python",
   "name": "python3"
  },
  "language_info": {
   "codemirror_mode": {
    "name": "ipython",
    "version": 3
   },
   "file_extension": ".py",
   "mimetype": "text/x-python",
   "name": "python",
   "nbconvert_exporter": "python",
   "pygments_lexer": "ipython3",
   "version": "3.9.6"
  }
 },
 "nbformat": 4,
 "nbformat_minor": 2
}
